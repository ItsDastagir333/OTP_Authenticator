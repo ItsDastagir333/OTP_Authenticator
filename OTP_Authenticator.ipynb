{
  "nbformat": 4,
  "nbformat_minor": 0,
  "metadata": {
    "colab": {
      "provenance": []
    },
    "kernelspec": {
      "name": "python3",
      "display_name": "Python 3"
    },
    "language_info": {
      "name": "python"
    }
  },
  "cells": [
    {
      "cell_type": "code",
      "source": [
        "!pip install pyotp\n",
        "!pip install qrcode"
      ],
      "metadata": {
        "colab": {
          "base_uri": "https://localhost:8080/"
        },
        "id": "9CYSCKNQIK8A",
        "outputId": "8c4c4aab-7fea-43dc-d593-d1aa3ba224b5"
      },
      "execution_count": null,
      "outputs": [
        {
          "output_type": "stream",
          "name": "stdout",
          "text": [
            "Collecting pyotp\n",
            "  Downloading pyotp-2.9.0-py3-none-any.whl (13 kB)\n",
            "Installing collected packages: pyotp\n",
            "Successfully installed pyotp-2.9.0\n",
            "Collecting qrcode\n",
            "  Downloading qrcode-7.4.2-py3-none-any.whl (46 kB)\n",
            "\u001b[2K     \u001b[90m━━━━━━━━━━━━━━━━━━━━━━━━━━━━━━━━━━━━━━━━\u001b[0m \u001b[32m46.2/46.2 kB\u001b[0m \u001b[31m1.2 MB/s\u001b[0m eta \u001b[36m0:00:00\u001b[0m\n",
            "\u001b[?25hRequirement already satisfied: typing-extensions in /usr/local/lib/python3.10/dist-packages (from qrcode) (4.5.0)\n",
            "Collecting pypng (from qrcode)\n",
            "  Downloading pypng-0.20220715.0-py3-none-any.whl (58 kB)\n",
            "\u001b[2K     \u001b[90m━━━━━━━━━━━━━━━━━━━━━━━━━━━━━━━━━━━━━━━━\u001b[0m \u001b[32m58.1/58.1 kB\u001b[0m \u001b[31m4.1 MB/s\u001b[0m eta \u001b[36m0:00:00\u001b[0m\n",
            "\u001b[?25hInstalling collected packages: pypng, qrcode\n",
            "Successfully installed pypng-0.20220715.0 qrcode-7.4.2\n"
          ]
        }
      ]
    },
    {
      "cell_type": "code",
      "execution_count": null,
      "metadata": {
        "id": "Paj_NWw9H8oZ"
      },
      "outputs": [],
      "source": [
        "import pyotp\n",
        "import qrcode\n",
        "\n",
        "# Generate a random base32-encoded key\n",
        "totp = pyotp.TOTP(pyotp.random_base32())\n",
        "secret_key = totp.secret\n",
        "print(secret_key)\n",
        "print(pyotp.random_base32())\n",
        "\n",
        "# Create a TOTP URI for the QR code\n",
        "totp_uri = totp.provisioning_uri(\"Your_App\", issuer_name=\"YourName\")\n",
        "\n",
        "# Create a QR code\n",
        "qr = qrcode.QRCode(\n",
        "    version=1,\n",
        "    error_correction=qrcode.constants.ERROR_CORRECT_L,\n",
        "    box_size=10,\n",
        "    border=4,\n",
        ")\n",
        "qr.add_data(totp_uri)\n",
        "qr.make(fit=True)\n",
        "\n",
        "# Create an image from the QR code data\n",
        "img = qr.make_image(fill_color=\"black\", back_color=\"white\")\n",
        "\n",
        "# Save the image to a file\n",
        "img.save(\"authenticator_qr.png\")\n",
        "img.show()\n"
      ]
    },
    {
      "cell_type": "code",
      "source": [
        "#generating OTP and verifying it\n",
        "\n",
        "#Scan the Authenticator_qr.png with authenticator app and\n",
        "# there you will get the new OTP for every 30 seconds\n",
        "# Enter it and verify the OTP\n",
        "\n",
        "ans = totp.verify(input(\"Enter the Received OTP \\n\"))\n",
        "\n",
        "if(ans):\n",
        "  print(\"You've Entered Correct OTP!!\")\n",
        "else:\n",
        "  print(\"Oops!!! You've Entered Incorrect OTP, Please verify once and enter correct OTP!!\")"
      ],
      "metadata": {
        "id": "fW3csXi-I5VZ"
      },
      "execution_count": null,
      "outputs": []
    }
  ]
}